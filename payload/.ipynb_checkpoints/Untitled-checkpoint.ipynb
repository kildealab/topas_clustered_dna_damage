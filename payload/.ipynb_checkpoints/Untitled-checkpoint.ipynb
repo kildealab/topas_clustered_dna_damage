{
 "cells": [
  {
   "cell_type": "code",
   "execution_count": 3,
   "id": "7026b177-e0f5-4b24-9067-34fad2ee1104",
   "metadata": {
    "tags": []
   },
   "outputs": [],
   "source": [
    "import csv\n",
    "import os\n",
    "import shutil\n",
    "import random\n",
    "from files_generator import *  \n"
   ]
  },
  {
   "cell_type": "code",
   "execution_count": 4,
   "id": "da09c97d-f592-4dbc-a552-aa1dcdcc8923",
   "metadata": {},
   "outputs": [],
   "source": [
    "def checker(filename,expected):\n",
    "    with open(filename, 'r') as file:\n",
    "        read = len(file.readlines())\n",
    "    if read == expected:\n",
    "        return True\n",
    "    else:\n",
    "        return False\n",
    "    "
   ]
  },
  {
   "cell_type": "code",
   "execution_count": 7,
   "id": "88ccf0ff-bfc5-4836-92ad-e040000ac3d6",
   "metadata": {},
   "outputs": [
    {
     "ename": "FileExistsError",
     "evalue": "[Errno 17] File exists: 'damage_results/x250keV_outer_electron'",
     "output_type": "error",
     "traceback": [
      "\u001b[0;31m---------------------------------------------------------------------------\u001b[0m",
      "\u001b[0;31mFileExistsError\u001b[0m                           Traceback (most recent call last)",
      "Cell \u001b[0;32mIn[7], line 14\u001b[0m\n\u001b[1;32m     10\u001b[0m \u001b[38;5;28mnext\u001b[39m(reader) \u001b[38;5;66;03m# skip the header row\u001b[39;00m\n\u001b[1;32m     11\u001b[0m \u001b[38;5;28;01mfor\u001b[39;00m row \u001b[38;5;129;01min\u001b[39;00m reader:\n\u001b[1;32m     12\u001b[0m \n\u001b[1;32m     13\u001b[0m     \u001b[38;5;66;03m# create a new directory for each particle\u001b[39;00m\n\u001b[0;32m---> 14\u001b[0m     \u001b[43mos\u001b[49m\u001b[38;5;241;43m.\u001b[39;49m\u001b[43mmkdir\u001b[49m\u001b[43m(\u001b[49m\u001b[38;5;124;43m'\u001b[39;49m\u001b[38;5;124;43mdamage_results/\u001b[39;49m\u001b[38;5;124;43m'\u001b[39;49m\u001b[43m \u001b[49m\u001b[38;5;241;43m+\u001b[39;49m\u001b[43m \u001b[49m\u001b[43mname\u001b[49m\u001b[43m)\u001b[49m\n\u001b[1;32m     16\u001b[0m     \u001b[38;5;28;01mfor\u001b[39;00m sims \u001b[38;5;129;01min\u001b[39;00m \u001b[38;5;28mrange\u001b[39m(\u001b[38;5;241m1\u001b[39m,NumDamageRepeat\u001b[38;5;241m+\u001b[39m\u001b[38;5;241m1\u001b[39m):\n\u001b[1;32m     17\u001b[0m         damage_filename \u001b[38;5;241m=\u001b[39m \u001b[38;5;124m'\u001b[39m\u001b[38;5;124mdamage_results/\u001b[39m\u001b[38;5;124m'\u001b[39m \u001b[38;5;241m+\u001b[39m name \u001b[38;5;241m+\u001b[39m \u001b[38;5;124m'\u001b[39m\u001b[38;5;124m/\u001b[39m\u001b[38;5;124m'\u001b[39m \u001b[38;5;241m+\u001b[39m name \u001b[38;5;241m+\u001b[39m \u001b[38;5;28mstr\u001b[39m(sims) \u001b[38;5;241m+\u001b[39m \u001b[38;5;124m'\u001b[39m\u001b[38;5;124m.txt\u001b[39m\u001b[38;5;124m'\u001b[39m\n",
      "\u001b[0;31mFileExistsError\u001b[0m: [Errno 17] File exists: 'damage_results/x250keV_outer_electron'"
     ]
    }
   ],
   "source": [
    "import csv\n",
    "import os\n",
    "import shutil\n",
    "import random\n",
    "\n",
    "\n",
    "# open the input file and read the rows\n",
    "with open(damage_ressources, 'r') as file:\n",
    "    reader = csv.reader(file)\n",
    "    next(reader) # skip the header row\n",
    "    for row in reader:\n",
    "\n",
    "        # create a new directory for each particle\n",
    "        os.mkdir('damage_results/' + name)\n",
    "\n",
    "        for sims in range(1,NumDamageRepeat+1):\n",
    "            damage_filename = 'damage_results/' + name + '/' + name + str(sims) + '.txt'\n",
    "\n",
    "            # write the repair parameter files\n",
    "            with open(damage_filename, 'w') as repair_param_file:\n",
    "                for i in range(10):\n",
    "                    repair_param_file.write(str(i) + '\\n' )\n",
    "                "
   ]
  },
  {
   "cell_type": "code",
   "execution_count": null,
   "id": "a05fabd9-cc8f-4c7a-ba4b-a2b1b80c5c16",
   "metadata": {},
   "outputs": [],
   "source": []
  }
 ],
 "metadata": {
  "kernelspec": {
   "display_name": "general_kernel",
   "language": "python",
   "name": "general_kernel"
  },
  "language_info": {
   "codemirror_mode": {
    "name": "ipython",
    "version": 3
   },
   "file_extension": ".py",
   "mimetype": "text/x-python",
   "name": "python",
   "nbconvert_exporter": "python",
   "pygments_lexer": "ipython3",
   "version": "3.10.9"
  }
 },
 "nbformat": 4,
 "nbformat_minor": 5
}
